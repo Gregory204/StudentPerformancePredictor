{
  "metadata": {
    "kernelspec": {
      "language": "python",
      "display_name": "Python 3",
      "name": "python3"
    },
    "language_info": {
      "name": "python",
      "version": "3.10.14",
      "mimetype": "text/x-python",
      "codemirror_mode": {
        "name": "ipython",
        "version": 3
      },
      "pygments_lexer": "ipython3",
      "nbconvert_exporter": "python",
      "file_extension": ".py"
    },
    "kaggle": {
      "accelerator": "none",
      "dataSources": [
        {
          "sourceId": 8677630,
          "sourceType": "datasetVersion",
          "datasetId": 5195702
        }
      ],
      "dockerImageVersionId": 30786,
      "isInternetEnabled": true,
      "language": "python",
      "sourceType": "notebook",
      "isGpuEnabled": false
    },
    "colab": {
      "name": "PeformanceFactors",
      "provenance": []
    }
  },
  "nbformat_minor": 0,
  "nbformat": 4,
  "cells": [
    {
      "source": [
        "# import kagglehub\n",
        "# rabieelkharoua_students_performance_dataset_path = kagglehub.dataset_download('rabieelkharoua/students-performance-dataset')\n",
        "\n",
        "# from google.colab import files\n",
        "# files.upload()  # This will prompt you to upload the kaggle.json file\n",
        "\n",
        "# import os\n",
        "# os.environ['KAGGLE_CONFIG_DIR'] = \"/content/\"\n",
        "\n",
        "# !kaggle datasets download -d rabieelkharoua/students-performance-dataset/\n",
        "\n",
        "# !unzip -qq students-performance-dataset.zip\n"
      ],
      "metadata": {
        "id": "JmbSypSirjq2"
      },
      "cell_type": "code",
      "outputs": [],
      "execution_count": 11
    },
    {
      "cell_type": "code",
      "source": [
        "# This Python 3 environment comes with many helpful analytics libraries installed\n",
        "# It is defined by the kaggle/python Docker image: https://github.com/kaggle/docker-python\n",
        "# For example, here's several helpful packages to load\n",
        "\n",
        "import numpy as np # linear algebra\n",
        "import pandas as pd # data processing, CSV file I/O (e.g. pd.read_csv)\n",
        "\n",
        "# Input data files are available in the read-only \"../input/\" directory\n",
        "# For example, running this (by clicking run or pressing Shift+Enter) will list all files under the input directory\n",
        "\n",
        "import os\n",
        "for dirname, _, filenames in os.walk('/kaggle/input'):\n",
        "    for filename in filenames:\n",
        "        print(os.path.join(dirname, filename))\n",
        "\n",
        "# You can write up to 20GB to the current directory (/kaggle/working/) that gets preserved as output when you create a version using \"Save & Run All\"\n",
        "# You can also write temporary files to /kaggle/temp/, but they won't be saved outside of the current session"
      ],
      "metadata": {
        "_uuid": "8f2839f25d086af736a60e9eeb907d3b93b6e0e5",
        "_cell_guid": "b1076dfc-b9ad-4769-8c92-a6c4dae69d19",
        "trusted": true,
        "execution": {
          "iopub.status.busy": "2024-11-20T01:01:08.518627Z",
          "iopub.execute_input": "2024-11-20T01:01:08.519042Z",
          "iopub.status.idle": "2024-11-20T01:01:08.527572Z",
          "shell.execute_reply.started": "2024-11-20T01:01:08.519005Z",
          "shell.execute_reply": "2024-11-20T01:01:08.526284Z"
        },
        "id": "BjJ42cBtrjq4"
      },
      "outputs": [],
      "execution_count": 12
    },
    {
      "cell_type": "markdown",
      "source": [
        "# 1. EDA (Exploratory Data Analysis)"
      ],
      "metadata": {
        "id": "BEelQVBnrjq5"
      }
    },
    {
      "cell_type": "markdown",
      "source": [
        "## 1.1 Load Dependencies"
      ],
      "metadata": {
        "id": "wJTRWtlFrjq6"
      }
    },
    {
      "cell_type": "code",
      "source": [
        "# Visualization Tool\n",
        "import seaborn as sns\n",
        "\n",
        "# Helper function to split our data\n",
        "from sklearn.model_selection import train_test_split\n",
        "\n",
        "# Helper fuctions to evaluate our model.\n",
        "from sklearn.metrics import make_scorer, accuracy_score, precision_score, recall_score, confusion_matrix, classification_report, f1_score\n",
        "\n",
        "# Helper function for hyper-parameter turning.\n",
        "from sklearn.model_selection import GridSearchCV, cross_validate\n",
        "\n",
        "# Import our Random Forest\n",
        "from sklearn.ensemble import RandomForestClassifier\n",
        "\n",
        "# Use inline so our visualizations display in notebook\n",
        "%matplotlib inline"
      ],
      "metadata": {
        "trusted": true,
        "execution": {
          "iopub.status.busy": "2024-11-20T01:01:08.529953Z",
          "iopub.execute_input": "2024-11-20T01:01:08.530431Z",
          "iopub.status.idle": "2024-11-20T01:01:11.511197Z",
          "shell.execute_reply.started": "2024-11-20T01:01:08.530381Z",
          "shell.execute_reply": "2024-11-20T01:01:11.509956Z"
        },
        "id": "zXXczc05rjq7"
      },
      "outputs": [],
      "execution_count": 13
    },
    {
      "cell_type": "markdown",
      "source": [
        "## 1.2 Explore The Data"
      ],
      "metadata": {
        "id": "Ill--lf1rjq7"
      }
    },
    {
      "cell_type": "code",
      "source": [
        "# Read in the csv\n",
        "student_df = pd.read_csv('/content/Student_performance_data _.csv')\n",
        "\n",
        "# Print out first 5 rows\n",
        "student_df.head()"
      ],
      "metadata": {
        "trusted": true,
        "execution": {
          "iopub.status.busy": "2024-11-20T01:01:11.512915Z",
          "iopub.execute_input": "2024-11-20T01:01:11.513603Z",
          "iopub.status.idle": "2024-11-20T01:01:11.566934Z",
          "shell.execute_reply.started": "2024-11-20T01:01:11.51355Z",
          "shell.execute_reply": "2024-11-20T01:01:11.565631Z"
        },
        "id": "PyTo_EEyrjq7",
        "outputId": "56aec1bf-7eaa-4d6d-8bdb-874c03d4e1f7",
        "colab": {
          "base_uri": "https://localhost:8080/",
          "height": 221
        }
      },
      "outputs": [
        {
          "output_type": "execute_result",
          "data": {
            "text/plain": [
              "   StudentID  Age  Gender  Ethnicity  ParentalEducation  StudyTimeWeekly  \\\n",
              "0       1001   17       1          0                  2        19.833723   \n",
              "1       1002   18       0          0                  1        15.408756   \n",
              "2       1003   15       0          2                  3         4.210570   \n",
              "3       1004   17       1          0                  3        10.028829   \n",
              "4       1005   17       1          0                  2         4.672495   \n",
              "\n",
              "   Absences  Tutoring  ParentalSupport  Extracurricular  Sports  Music  \\\n",
              "0         7         1                2                0       0      1   \n",
              "1         0         0                1                0       0      0   \n",
              "2        26         0                2                0       0      0   \n",
              "3        14         0                3                1       0      0   \n",
              "4        17         1                3                0       0      0   \n",
              "\n",
              "   Volunteering       GPA  GradeClass  \n",
              "0             0  2.929196         2.0  \n",
              "1             0  3.042915         1.0  \n",
              "2             0  0.112602         4.0  \n",
              "3             0  2.054218         3.0  \n",
              "4             0  1.288061         4.0  "
            ],
            "text/html": [
              "\n",
              "  <div id=\"df-6f29423a-fccb-477e-8f09-de352b0b7773\" class=\"colab-df-container\">\n",
              "    <div>\n",
              "<style scoped>\n",
              "    .dataframe tbody tr th:only-of-type {\n",
              "        vertical-align: middle;\n",
              "    }\n",
              "\n",
              "    .dataframe tbody tr th {\n",
              "        vertical-align: top;\n",
              "    }\n",
              "\n",
              "    .dataframe thead th {\n",
              "        text-align: right;\n",
              "    }\n",
              "</style>\n",
              "<table border=\"1\" class=\"dataframe\">\n",
              "  <thead>\n",
              "    <tr style=\"text-align: right;\">\n",
              "      <th></th>\n",
              "      <th>StudentID</th>\n",
              "      <th>Age</th>\n",
              "      <th>Gender</th>\n",
              "      <th>Ethnicity</th>\n",
              "      <th>ParentalEducation</th>\n",
              "      <th>StudyTimeWeekly</th>\n",
              "      <th>Absences</th>\n",
              "      <th>Tutoring</th>\n",
              "      <th>ParentalSupport</th>\n",
              "      <th>Extracurricular</th>\n",
              "      <th>Sports</th>\n",
              "      <th>Music</th>\n",
              "      <th>Volunteering</th>\n",
              "      <th>GPA</th>\n",
              "      <th>GradeClass</th>\n",
              "    </tr>\n",
              "  </thead>\n",
              "  <tbody>\n",
              "    <tr>\n",
              "      <th>0</th>\n",
              "      <td>1001</td>\n",
              "      <td>17</td>\n",
              "      <td>1</td>\n",
              "      <td>0</td>\n",
              "      <td>2</td>\n",
              "      <td>19.833723</td>\n",
              "      <td>7</td>\n",
              "      <td>1</td>\n",
              "      <td>2</td>\n",
              "      <td>0</td>\n",
              "      <td>0</td>\n",
              "      <td>1</td>\n",
              "      <td>0</td>\n",
              "      <td>2.929196</td>\n",
              "      <td>2.0</td>\n",
              "    </tr>\n",
              "    <tr>\n",
              "      <th>1</th>\n",
              "      <td>1002</td>\n",
              "      <td>18</td>\n",
              "      <td>0</td>\n",
              "      <td>0</td>\n",
              "      <td>1</td>\n",
              "      <td>15.408756</td>\n",
              "      <td>0</td>\n",
              "      <td>0</td>\n",
              "      <td>1</td>\n",
              "      <td>0</td>\n",
              "      <td>0</td>\n",
              "      <td>0</td>\n",
              "      <td>0</td>\n",
              "      <td>3.042915</td>\n",
              "      <td>1.0</td>\n",
              "    </tr>\n",
              "    <tr>\n",
              "      <th>2</th>\n",
              "      <td>1003</td>\n",
              "      <td>15</td>\n",
              "      <td>0</td>\n",
              "      <td>2</td>\n",
              "      <td>3</td>\n",
              "      <td>4.210570</td>\n",
              "      <td>26</td>\n",
              "      <td>0</td>\n",
              "      <td>2</td>\n",
              "      <td>0</td>\n",
              "      <td>0</td>\n",
              "      <td>0</td>\n",
              "      <td>0</td>\n",
              "      <td>0.112602</td>\n",
              "      <td>4.0</td>\n",
              "    </tr>\n",
              "    <tr>\n",
              "      <th>3</th>\n",
              "      <td>1004</td>\n",
              "      <td>17</td>\n",
              "      <td>1</td>\n",
              "      <td>0</td>\n",
              "      <td>3</td>\n",
              "      <td>10.028829</td>\n",
              "      <td>14</td>\n",
              "      <td>0</td>\n",
              "      <td>3</td>\n",
              "      <td>1</td>\n",
              "      <td>0</td>\n",
              "      <td>0</td>\n",
              "      <td>0</td>\n",
              "      <td>2.054218</td>\n",
              "      <td>3.0</td>\n",
              "    </tr>\n",
              "    <tr>\n",
              "      <th>4</th>\n",
              "      <td>1005</td>\n",
              "      <td>17</td>\n",
              "      <td>1</td>\n",
              "      <td>0</td>\n",
              "      <td>2</td>\n",
              "      <td>4.672495</td>\n",
              "      <td>17</td>\n",
              "      <td>1</td>\n",
              "      <td>3</td>\n",
              "      <td>0</td>\n",
              "      <td>0</td>\n",
              "      <td>0</td>\n",
              "      <td>0</td>\n",
              "      <td>1.288061</td>\n",
              "      <td>4.0</td>\n",
              "    </tr>\n",
              "  </tbody>\n",
              "</table>\n",
              "</div>\n",
              "    <div class=\"colab-df-buttons\">\n",
              "\n",
              "  <div class=\"colab-df-container\">\n",
              "    <button class=\"colab-df-convert\" onclick=\"convertToInteractive('df-6f29423a-fccb-477e-8f09-de352b0b7773')\"\n",
              "            title=\"Convert this dataframe to an interactive table.\"\n",
              "            style=\"display:none;\">\n",
              "\n",
              "  <svg xmlns=\"http://www.w3.org/2000/svg\" height=\"24px\" viewBox=\"0 -960 960 960\">\n",
              "    <path d=\"M120-120v-720h720v720H120Zm60-500h600v-160H180v160Zm220 220h160v-160H400v160Zm0 220h160v-160H400v160ZM180-400h160v-160H180v160Zm440 0h160v-160H620v160ZM180-180h160v-160H180v160Zm440 0h160v-160H620v160Z\"/>\n",
              "  </svg>\n",
              "    </button>\n",
              "\n",
              "  <style>\n",
              "    .colab-df-container {\n",
              "      display:flex;\n",
              "      gap: 12px;\n",
              "    }\n",
              "\n",
              "    .colab-df-convert {\n",
              "      background-color: #E8F0FE;\n",
              "      border: none;\n",
              "      border-radius: 50%;\n",
              "      cursor: pointer;\n",
              "      display: none;\n",
              "      fill: #1967D2;\n",
              "      height: 32px;\n",
              "      padding: 0 0 0 0;\n",
              "      width: 32px;\n",
              "    }\n",
              "\n",
              "    .colab-df-convert:hover {\n",
              "      background-color: #E2EBFA;\n",
              "      box-shadow: 0px 1px 2px rgba(60, 64, 67, 0.3), 0px 1px 3px 1px rgba(60, 64, 67, 0.15);\n",
              "      fill: #174EA6;\n",
              "    }\n",
              "\n",
              "    .colab-df-buttons div {\n",
              "      margin-bottom: 4px;\n",
              "    }\n",
              "\n",
              "    [theme=dark] .colab-df-convert {\n",
              "      background-color: #3B4455;\n",
              "      fill: #D2E3FC;\n",
              "    }\n",
              "\n",
              "    [theme=dark] .colab-df-convert:hover {\n",
              "      background-color: #434B5C;\n",
              "      box-shadow: 0px 1px 3px 1px rgba(0, 0, 0, 0.15);\n",
              "      filter: drop-shadow(0px 1px 2px rgba(0, 0, 0, 0.3));\n",
              "      fill: #FFFFFF;\n",
              "    }\n",
              "  </style>\n",
              "\n",
              "    <script>\n",
              "      const buttonEl =\n",
              "        document.querySelector('#df-6f29423a-fccb-477e-8f09-de352b0b7773 button.colab-df-convert');\n",
              "      buttonEl.style.display =\n",
              "        google.colab.kernel.accessAllowed ? 'block' : 'none';\n",
              "\n",
              "      async function convertToInteractive(key) {\n",
              "        const element = document.querySelector('#df-6f29423a-fccb-477e-8f09-de352b0b7773');\n",
              "        const dataTable =\n",
              "          await google.colab.kernel.invokeFunction('convertToInteractive',\n",
              "                                                    [key], {});\n",
              "        if (!dataTable) return;\n",
              "\n",
              "        const docLinkHtml = 'Like what you see? Visit the ' +\n",
              "          '<a target=\"_blank\" href=https://colab.research.google.com/notebooks/data_table.ipynb>data table notebook</a>'\n",
              "          + ' to learn more about interactive tables.';\n",
              "        element.innerHTML = '';\n",
              "        dataTable['output_type'] = 'display_data';\n",
              "        await google.colab.output.renderOutput(dataTable, element);\n",
              "        const docLink = document.createElement('div');\n",
              "        docLink.innerHTML = docLinkHtml;\n",
              "        element.appendChild(docLink);\n",
              "      }\n",
              "    </script>\n",
              "  </div>\n",
              "\n",
              "\n",
              "<div id=\"df-871af594-70a2-4c40-b402-ceeac958ccd0\">\n",
              "  <button class=\"colab-df-quickchart\" onclick=\"quickchart('df-871af594-70a2-4c40-b402-ceeac958ccd0')\"\n",
              "            title=\"Suggest charts\"\n",
              "            style=\"display:none;\">\n",
              "\n",
              "<svg xmlns=\"http://www.w3.org/2000/svg\" height=\"24px\"viewBox=\"0 0 24 24\"\n",
              "     width=\"24px\">\n",
              "    <g>\n",
              "        <path d=\"M19 3H5c-1.1 0-2 .9-2 2v14c0 1.1.9 2 2 2h14c1.1 0 2-.9 2-2V5c0-1.1-.9-2-2-2zM9 17H7v-7h2v7zm4 0h-2V7h2v10zm4 0h-2v-4h2v4z\"/>\n",
              "    </g>\n",
              "</svg>\n",
              "  </button>\n",
              "\n",
              "<style>\n",
              "  .colab-df-quickchart {\n",
              "      --bg-color: #E8F0FE;\n",
              "      --fill-color: #1967D2;\n",
              "      --hover-bg-color: #E2EBFA;\n",
              "      --hover-fill-color: #174EA6;\n",
              "      --disabled-fill-color: #AAA;\n",
              "      --disabled-bg-color: #DDD;\n",
              "  }\n",
              "\n",
              "  [theme=dark] .colab-df-quickchart {\n",
              "      --bg-color: #3B4455;\n",
              "      --fill-color: #D2E3FC;\n",
              "      --hover-bg-color: #434B5C;\n",
              "      --hover-fill-color: #FFFFFF;\n",
              "      --disabled-bg-color: #3B4455;\n",
              "      --disabled-fill-color: #666;\n",
              "  }\n",
              "\n",
              "  .colab-df-quickchart {\n",
              "    background-color: var(--bg-color);\n",
              "    border: none;\n",
              "    border-radius: 50%;\n",
              "    cursor: pointer;\n",
              "    display: none;\n",
              "    fill: var(--fill-color);\n",
              "    height: 32px;\n",
              "    padding: 0;\n",
              "    width: 32px;\n",
              "  }\n",
              "\n",
              "  .colab-df-quickchart:hover {\n",
              "    background-color: var(--hover-bg-color);\n",
              "    box-shadow: 0 1px 2px rgba(60, 64, 67, 0.3), 0 1px 3px 1px rgba(60, 64, 67, 0.15);\n",
              "    fill: var(--button-hover-fill-color);\n",
              "  }\n",
              "\n",
              "  .colab-df-quickchart-complete:disabled,\n",
              "  .colab-df-quickchart-complete:disabled:hover {\n",
              "    background-color: var(--disabled-bg-color);\n",
              "    fill: var(--disabled-fill-color);\n",
              "    box-shadow: none;\n",
              "  }\n",
              "\n",
              "  .colab-df-spinner {\n",
              "    border: 2px solid var(--fill-color);\n",
              "    border-color: transparent;\n",
              "    border-bottom-color: var(--fill-color);\n",
              "    animation:\n",
              "      spin 1s steps(1) infinite;\n",
              "  }\n",
              "\n",
              "  @keyframes spin {\n",
              "    0% {\n",
              "      border-color: transparent;\n",
              "      border-bottom-color: var(--fill-color);\n",
              "      border-left-color: var(--fill-color);\n",
              "    }\n",
              "    20% {\n",
              "      border-color: transparent;\n",
              "      border-left-color: var(--fill-color);\n",
              "      border-top-color: var(--fill-color);\n",
              "    }\n",
              "    30% {\n",
              "      border-color: transparent;\n",
              "      border-left-color: var(--fill-color);\n",
              "      border-top-color: var(--fill-color);\n",
              "      border-right-color: var(--fill-color);\n",
              "    }\n",
              "    40% {\n",
              "      border-color: transparent;\n",
              "      border-right-color: var(--fill-color);\n",
              "      border-top-color: var(--fill-color);\n",
              "    }\n",
              "    60% {\n",
              "      border-color: transparent;\n",
              "      border-right-color: var(--fill-color);\n",
              "    }\n",
              "    80% {\n",
              "      border-color: transparent;\n",
              "      border-right-color: var(--fill-color);\n",
              "      border-bottom-color: var(--fill-color);\n",
              "    }\n",
              "    90% {\n",
              "      border-color: transparent;\n",
              "      border-bottom-color: var(--fill-color);\n",
              "    }\n",
              "  }\n",
              "</style>\n",
              "\n",
              "  <script>\n",
              "    async function quickchart(key) {\n",
              "      const quickchartButtonEl =\n",
              "        document.querySelector('#' + key + ' button');\n",
              "      quickchartButtonEl.disabled = true;  // To prevent multiple clicks.\n",
              "      quickchartButtonEl.classList.add('colab-df-spinner');\n",
              "      try {\n",
              "        const charts = await google.colab.kernel.invokeFunction(\n",
              "            'suggestCharts', [key], {});\n",
              "      } catch (error) {\n",
              "        console.error('Error during call to suggestCharts:', error);\n",
              "      }\n",
              "      quickchartButtonEl.classList.remove('colab-df-spinner');\n",
              "      quickchartButtonEl.classList.add('colab-df-quickchart-complete');\n",
              "    }\n",
              "    (() => {\n",
              "      let quickchartButtonEl =\n",
              "        document.querySelector('#df-871af594-70a2-4c40-b402-ceeac958ccd0 button');\n",
              "      quickchartButtonEl.style.display =\n",
              "        google.colab.kernel.accessAllowed ? 'block' : 'none';\n",
              "    })();\n",
              "  </script>\n",
              "</div>\n",
              "\n",
              "    </div>\n",
              "  </div>\n"
            ],
            "application/vnd.google.colaboratory.intrinsic+json": {
              "type": "dataframe",
              "variable_name": "student_df",
              "summary": "{\n  \"name\": \"student_df\",\n  \"rows\": 2392,\n  \"fields\": [\n    {\n      \"column\": \"StudentID\",\n      \"properties\": {\n        \"dtype\": \"number\",\n        \"std\": 690,\n        \"min\": 1001,\n        \"max\": 3392,\n        \"num_unique_values\": 2392,\n        \"samples\": [\n          2005,\n          1197,\n          3343\n        ],\n        \"semantic_type\": \"\",\n        \"description\": \"\"\n      }\n    },\n    {\n      \"column\": \"Age\",\n      \"properties\": {\n        \"dtype\": \"number\",\n        \"std\": 1,\n        \"min\": 15,\n        \"max\": 18,\n        \"num_unique_values\": 4,\n        \"samples\": [\n          18,\n          16,\n          17\n        ],\n        \"semantic_type\": \"\",\n        \"description\": \"\"\n      }\n    },\n    {\n      \"column\": \"Gender\",\n      \"properties\": {\n        \"dtype\": \"number\",\n        \"std\": 0,\n        \"min\": 0,\n        \"max\": 1,\n        \"num_unique_values\": 2,\n        \"samples\": [\n          0,\n          1\n        ],\n        \"semantic_type\": \"\",\n        \"description\": \"\"\n      }\n    },\n    {\n      \"column\": \"Ethnicity\",\n      \"properties\": {\n        \"dtype\": \"number\",\n        \"std\": 1,\n        \"min\": 0,\n        \"max\": 3,\n        \"num_unique_values\": 4,\n        \"samples\": [\n          2,\n          3\n        ],\n        \"semantic_type\": \"\",\n        \"description\": \"\"\n      }\n    },\n    {\n      \"column\": \"ParentalEducation\",\n      \"properties\": {\n        \"dtype\": \"number\",\n        \"std\": 1,\n        \"min\": 0,\n        \"max\": 4,\n        \"num_unique_values\": 5,\n        \"samples\": [\n          1,\n          0\n        ],\n        \"semantic_type\": \"\",\n        \"description\": \"\"\n      }\n    },\n    {\n      \"column\": \"StudyTimeWeekly\",\n      \"properties\": {\n        \"dtype\": \"number\",\n        \"std\": 5.65277423586027,\n        \"min\": 0.001056538645936,\n        \"max\": 19.97809399526153,\n        \"num_unique_values\": 2392,\n        \"samples\": [\n          0.1357634804717955,\n          1.9899245236127627\n        ],\n        \"semantic_type\": \"\",\n        \"description\": \"\"\n      }\n    },\n    {\n      \"column\": \"Absences\",\n      \"properties\": {\n        \"dtype\": \"number\",\n        \"std\": 8,\n        \"min\": 0,\n        \"max\": 29,\n        \"num_unique_values\": 30,\n        \"samples\": [\n          18,\n          25\n        ],\n        \"semantic_type\": \"\",\n        \"description\": \"\"\n      }\n    },\n    {\n      \"column\": \"Tutoring\",\n      \"properties\": {\n        \"dtype\": \"number\",\n        \"std\": 0,\n        \"min\": 0,\n        \"max\": 1,\n        \"num_unique_values\": 2,\n        \"samples\": [\n          0,\n          1\n        ],\n        \"semantic_type\": \"\",\n        \"description\": \"\"\n      }\n    },\n    {\n      \"column\": \"ParentalSupport\",\n      \"properties\": {\n        \"dtype\": \"number\",\n        \"std\": 1,\n        \"min\": 0,\n        \"max\": 4,\n        \"num_unique_values\": 5,\n        \"samples\": [\n          1,\n          0\n        ],\n        \"semantic_type\": \"\",\n        \"description\": \"\"\n      }\n    },\n    {\n      \"column\": \"Extracurricular\",\n      \"properties\": {\n        \"dtype\": \"number\",\n        \"std\": 0,\n        \"min\": 0,\n        \"max\": 1,\n        \"num_unique_values\": 2,\n        \"samples\": [\n          1,\n          0\n        ],\n        \"semantic_type\": \"\",\n        \"description\": \"\"\n      }\n    },\n    {\n      \"column\": \"Sports\",\n      \"properties\": {\n        \"dtype\": \"number\",\n        \"std\": 0,\n        \"min\": 0,\n        \"max\": 1,\n        \"num_unique_values\": 2,\n        \"samples\": [\n          1,\n          0\n        ],\n        \"semantic_type\": \"\",\n        \"description\": \"\"\n      }\n    },\n    {\n      \"column\": \"Music\",\n      \"properties\": {\n        \"dtype\": \"number\",\n        \"std\": 0,\n        \"min\": 0,\n        \"max\": 1,\n        \"num_unique_values\": 2,\n        \"samples\": [\n          0,\n          1\n        ],\n        \"semantic_type\": \"\",\n        \"description\": \"\"\n      }\n    },\n    {\n      \"column\": \"Volunteering\",\n      \"properties\": {\n        \"dtype\": \"number\",\n        \"std\": 0,\n        \"min\": 0,\n        \"max\": 1,\n        \"num_unique_values\": 2,\n        \"samples\": [\n          1,\n          0\n        ],\n        \"semantic_type\": \"\",\n        \"description\": \"\"\n      }\n    },\n    {\n      \"column\": \"GPA\",\n      \"properties\": {\n        \"dtype\": \"number\",\n        \"std\": 0.91515582032496,\n        \"min\": 0.0,\n        \"max\": 4.0,\n        \"num_unique_values\": 2371,\n        \"samples\": [\n          3.3104012689001965,\n          3.4577117259752934\n        ],\n        \"semantic_type\": \"\",\n        \"description\": \"\"\n      }\n    },\n    {\n      \"column\": \"GradeClass\",\n      \"properties\": {\n        \"dtype\": \"number\",\n        \"std\": 1.2339075602260843,\n        \"min\": 0.0,\n        \"max\": 4.0,\n        \"num_unique_values\": 5,\n        \"samples\": [\n          1.0,\n          0.0\n        ],\n        \"semantic_type\": \"\",\n        \"description\": \"\"\n      }\n    }\n  ]\n}"
            }
          },
          "metadata": {},
          "execution_count": 14
        }
      ],
      "execution_count": 14
    },
    {
      "cell_type": "code",
      "source": [
        "# Get some statistics\n",
        "student_df.describe()"
      ],
      "metadata": {
        "trusted": true,
        "execution": {
          "iopub.status.busy": "2024-11-20T01:01:11.568305Z",
          "iopub.execute_input": "2024-11-20T01:01:11.568643Z",
          "iopub.status.idle": "2024-11-20T01:01:11.625228Z",
          "shell.execute_reply.started": "2024-11-20T01:01:11.56861Z",
          "shell.execute_reply": "2024-11-20T01:01:11.624082Z"
        },
        "id": "_sjyarsJrjq7",
        "outputId": "0ef33ead-cf1f-4c9c-e359-12a2e9c67ac3",
        "colab": {
          "base_uri": "https://localhost:8080/",
          "height": 311
        }
      },
      "outputs": [
        {
          "output_type": "execute_result",
          "data": {
            "text/plain": [
              "         StudentID          Age       Gender    Ethnicity  ParentalEducation  \\\n",
              "count  2392.000000  2392.000000  2392.000000  2392.000000        2392.000000   \n",
              "mean   2196.500000    16.468645     0.510870     0.877508           1.746237   \n",
              "std     690.655244     1.123798     0.499986     1.028476           1.000411   \n",
              "min    1001.000000    15.000000     0.000000     0.000000           0.000000   \n",
              "25%    1598.750000    15.000000     0.000000     0.000000           1.000000   \n",
              "50%    2196.500000    16.000000     1.000000     0.000000           2.000000   \n",
              "75%    2794.250000    17.000000     1.000000     2.000000           2.000000   \n",
              "max    3392.000000    18.000000     1.000000     3.000000           4.000000   \n",
              "\n",
              "       StudyTimeWeekly     Absences     Tutoring  ParentalSupport  \\\n",
              "count      2392.000000  2392.000000  2392.000000      2392.000000   \n",
              "mean          9.771992    14.541388     0.301421         2.122074   \n",
              "std           5.652774     8.467417     0.458971         1.122813   \n",
              "min           0.001057     0.000000     0.000000         0.000000   \n",
              "25%           5.043079     7.000000     0.000000         1.000000   \n",
              "50%           9.705363    15.000000     0.000000         2.000000   \n",
              "75%          14.408410    22.000000     1.000000         3.000000   \n",
              "max          19.978094    29.000000     1.000000         4.000000   \n",
              "\n",
              "       Extracurricular       Sports        Music  Volunteering          GPA  \\\n",
              "count      2392.000000  2392.000000  2392.000000   2392.000000  2392.000000   \n",
              "mean          0.383361     0.303512     0.196906      0.157191     1.906186   \n",
              "std           0.486307     0.459870     0.397744      0.364057     0.915156   \n",
              "min           0.000000     0.000000     0.000000      0.000000     0.000000   \n",
              "25%           0.000000     0.000000     0.000000      0.000000     1.174803   \n",
              "50%           0.000000     0.000000     0.000000      0.000000     1.893393   \n",
              "75%           1.000000     1.000000     0.000000      0.000000     2.622216   \n",
              "max           1.000000     1.000000     1.000000      1.000000     4.000000   \n",
              "\n",
              "        GradeClass  \n",
              "count  2392.000000  \n",
              "mean      2.983696  \n",
              "std       1.233908  \n",
              "min       0.000000  \n",
              "25%       2.000000  \n",
              "50%       4.000000  \n",
              "75%       4.000000  \n",
              "max       4.000000  "
            ],
            "text/html": [
              "\n",
              "  <div id=\"df-5a664cfd-fc65-4173-8039-85655e291b25\" class=\"colab-df-container\">\n",
              "    <div>\n",
              "<style scoped>\n",
              "    .dataframe tbody tr th:only-of-type {\n",
              "        vertical-align: middle;\n",
              "    }\n",
              "\n",
              "    .dataframe tbody tr th {\n",
              "        vertical-align: top;\n",
              "    }\n",
              "\n",
              "    .dataframe thead th {\n",
              "        text-align: right;\n",
              "    }\n",
              "</style>\n",
              "<table border=\"1\" class=\"dataframe\">\n",
              "  <thead>\n",
              "    <tr style=\"text-align: right;\">\n",
              "      <th></th>\n",
              "      <th>StudentID</th>\n",
              "      <th>Age</th>\n",
              "      <th>Gender</th>\n",
              "      <th>Ethnicity</th>\n",
              "      <th>ParentalEducation</th>\n",
              "      <th>StudyTimeWeekly</th>\n",
              "      <th>Absences</th>\n",
              "      <th>Tutoring</th>\n",
              "      <th>ParentalSupport</th>\n",
              "      <th>Extracurricular</th>\n",
              "      <th>Sports</th>\n",
              "      <th>Music</th>\n",
              "      <th>Volunteering</th>\n",
              "      <th>GPA</th>\n",
              "      <th>GradeClass</th>\n",
              "    </tr>\n",
              "  </thead>\n",
              "  <tbody>\n",
              "    <tr>\n",
              "      <th>count</th>\n",
              "      <td>2392.000000</td>\n",
              "      <td>2392.000000</td>\n",
              "      <td>2392.000000</td>\n",
              "      <td>2392.000000</td>\n",
              "      <td>2392.000000</td>\n",
              "      <td>2392.000000</td>\n",
              "      <td>2392.000000</td>\n",
              "      <td>2392.000000</td>\n",
              "      <td>2392.000000</td>\n",
              "      <td>2392.000000</td>\n",
              "      <td>2392.000000</td>\n",
              "      <td>2392.000000</td>\n",
              "      <td>2392.000000</td>\n",
              "      <td>2392.000000</td>\n",
              "      <td>2392.000000</td>\n",
              "    </tr>\n",
              "    <tr>\n",
              "      <th>mean</th>\n",
              "      <td>2196.500000</td>\n",
              "      <td>16.468645</td>\n",
              "      <td>0.510870</td>\n",
              "      <td>0.877508</td>\n",
              "      <td>1.746237</td>\n",
              "      <td>9.771992</td>\n",
              "      <td>14.541388</td>\n",
              "      <td>0.301421</td>\n",
              "      <td>2.122074</td>\n",
              "      <td>0.383361</td>\n",
              "      <td>0.303512</td>\n",
              "      <td>0.196906</td>\n",
              "      <td>0.157191</td>\n",
              "      <td>1.906186</td>\n",
              "      <td>2.983696</td>\n",
              "    </tr>\n",
              "    <tr>\n",
              "      <th>std</th>\n",
              "      <td>690.655244</td>\n",
              "      <td>1.123798</td>\n",
              "      <td>0.499986</td>\n",
              "      <td>1.028476</td>\n",
              "      <td>1.000411</td>\n",
              "      <td>5.652774</td>\n",
              "      <td>8.467417</td>\n",
              "      <td>0.458971</td>\n",
              "      <td>1.122813</td>\n",
              "      <td>0.486307</td>\n",
              "      <td>0.459870</td>\n",
              "      <td>0.397744</td>\n",
              "      <td>0.364057</td>\n",
              "      <td>0.915156</td>\n",
              "      <td>1.233908</td>\n",
              "    </tr>\n",
              "    <tr>\n",
              "      <th>min</th>\n",
              "      <td>1001.000000</td>\n",
              "      <td>15.000000</td>\n",
              "      <td>0.000000</td>\n",
              "      <td>0.000000</td>\n",
              "      <td>0.000000</td>\n",
              "      <td>0.001057</td>\n",
              "      <td>0.000000</td>\n",
              "      <td>0.000000</td>\n",
              "      <td>0.000000</td>\n",
              "      <td>0.000000</td>\n",
              "      <td>0.000000</td>\n",
              "      <td>0.000000</td>\n",
              "      <td>0.000000</td>\n",
              "      <td>0.000000</td>\n",
              "      <td>0.000000</td>\n",
              "    </tr>\n",
              "    <tr>\n",
              "      <th>25%</th>\n",
              "      <td>1598.750000</td>\n",
              "      <td>15.000000</td>\n",
              "      <td>0.000000</td>\n",
              "      <td>0.000000</td>\n",
              "      <td>1.000000</td>\n",
              "      <td>5.043079</td>\n",
              "      <td>7.000000</td>\n",
              "      <td>0.000000</td>\n",
              "      <td>1.000000</td>\n",
              "      <td>0.000000</td>\n",
              "      <td>0.000000</td>\n",
              "      <td>0.000000</td>\n",
              "      <td>0.000000</td>\n",
              "      <td>1.174803</td>\n",
              "      <td>2.000000</td>\n",
              "    </tr>\n",
              "    <tr>\n",
              "      <th>50%</th>\n",
              "      <td>2196.500000</td>\n",
              "      <td>16.000000</td>\n",
              "      <td>1.000000</td>\n",
              "      <td>0.000000</td>\n",
              "      <td>2.000000</td>\n",
              "      <td>9.705363</td>\n",
              "      <td>15.000000</td>\n",
              "      <td>0.000000</td>\n",
              "      <td>2.000000</td>\n",
              "      <td>0.000000</td>\n",
              "      <td>0.000000</td>\n",
              "      <td>0.000000</td>\n",
              "      <td>0.000000</td>\n",
              "      <td>1.893393</td>\n",
              "      <td>4.000000</td>\n",
              "    </tr>\n",
              "    <tr>\n",
              "      <th>75%</th>\n",
              "      <td>2794.250000</td>\n",
              "      <td>17.000000</td>\n",
              "      <td>1.000000</td>\n",
              "      <td>2.000000</td>\n",
              "      <td>2.000000</td>\n",
              "      <td>14.408410</td>\n",
              "      <td>22.000000</td>\n",
              "      <td>1.000000</td>\n",
              "      <td>3.000000</td>\n",
              "      <td>1.000000</td>\n",
              "      <td>1.000000</td>\n",
              "      <td>0.000000</td>\n",
              "      <td>0.000000</td>\n",
              "      <td>2.622216</td>\n",
              "      <td>4.000000</td>\n",
              "    </tr>\n",
              "    <tr>\n",
              "      <th>max</th>\n",
              "      <td>3392.000000</td>\n",
              "      <td>18.000000</td>\n",
              "      <td>1.000000</td>\n",
              "      <td>3.000000</td>\n",
              "      <td>4.000000</td>\n",
              "      <td>19.978094</td>\n",
              "      <td>29.000000</td>\n",
              "      <td>1.000000</td>\n",
              "      <td>4.000000</td>\n",
              "      <td>1.000000</td>\n",
              "      <td>1.000000</td>\n",
              "      <td>1.000000</td>\n",
              "      <td>1.000000</td>\n",
              "      <td>4.000000</td>\n",
              "      <td>4.000000</td>\n",
              "    </tr>\n",
              "  </tbody>\n",
              "</table>\n",
              "</div>\n",
              "    <div class=\"colab-df-buttons\">\n",
              "\n",
              "  <div class=\"colab-df-container\">\n",
              "    <button class=\"colab-df-convert\" onclick=\"convertToInteractive('df-5a664cfd-fc65-4173-8039-85655e291b25')\"\n",
              "            title=\"Convert this dataframe to an interactive table.\"\n",
              "            style=\"display:none;\">\n",
              "\n",
              "  <svg xmlns=\"http://www.w3.org/2000/svg\" height=\"24px\" viewBox=\"0 -960 960 960\">\n",
              "    <path d=\"M120-120v-720h720v720H120Zm60-500h600v-160H180v160Zm220 220h160v-160H400v160Zm0 220h160v-160H400v160ZM180-400h160v-160H180v160Zm440 0h160v-160H620v160ZM180-180h160v-160H180v160Zm440 0h160v-160H620v160Z\"/>\n",
              "  </svg>\n",
              "    </button>\n",
              "\n",
              "  <style>\n",
              "    .colab-df-container {\n",
              "      display:flex;\n",
              "      gap: 12px;\n",
              "    }\n",
              "\n",
              "    .colab-df-convert {\n",
              "      background-color: #E8F0FE;\n",
              "      border: none;\n",
              "      border-radius: 50%;\n",
              "      cursor: pointer;\n",
              "      display: none;\n",
              "      fill: #1967D2;\n",
              "      height: 32px;\n",
              "      padding: 0 0 0 0;\n",
              "      width: 32px;\n",
              "    }\n",
              "\n",
              "    .colab-df-convert:hover {\n",
              "      background-color: #E2EBFA;\n",
              "      box-shadow: 0px 1px 2px rgba(60, 64, 67, 0.3), 0px 1px 3px 1px rgba(60, 64, 67, 0.15);\n",
              "      fill: #174EA6;\n",
              "    }\n",
              "\n",
              "    .colab-df-buttons div {\n",
              "      margin-bottom: 4px;\n",
              "    }\n",
              "\n",
              "    [theme=dark] .colab-df-convert {\n",
              "      background-color: #3B4455;\n",
              "      fill: #D2E3FC;\n",
              "    }\n",
              "\n",
              "    [theme=dark] .colab-df-convert:hover {\n",
              "      background-color: #434B5C;\n",
              "      box-shadow: 0px 1px 3px 1px rgba(0, 0, 0, 0.15);\n",
              "      filter: drop-shadow(0px 1px 2px rgba(0, 0, 0, 0.3));\n",
              "      fill: #FFFFFF;\n",
              "    }\n",
              "  </style>\n",
              "\n",
              "    <script>\n",
              "      const buttonEl =\n",
              "        document.querySelector('#df-5a664cfd-fc65-4173-8039-85655e291b25 button.colab-df-convert');\n",
              "      buttonEl.style.display =\n",
              "        google.colab.kernel.accessAllowed ? 'block' : 'none';\n",
              "\n",
              "      async function convertToInteractive(key) {\n",
              "        const element = document.querySelector('#df-5a664cfd-fc65-4173-8039-85655e291b25');\n",
              "        const dataTable =\n",
              "          await google.colab.kernel.invokeFunction('convertToInteractive',\n",
              "                                                    [key], {});\n",
              "        if (!dataTable) return;\n",
              "\n",
              "        const docLinkHtml = 'Like what you see? Visit the ' +\n",
              "          '<a target=\"_blank\" href=https://colab.research.google.com/notebooks/data_table.ipynb>data table notebook</a>'\n",
              "          + ' to learn more about interactive tables.';\n",
              "        element.innerHTML = '';\n",
              "        dataTable['output_type'] = 'display_data';\n",
              "        await google.colab.output.renderOutput(dataTable, element);\n",
              "        const docLink = document.createElement('div');\n",
              "        docLink.innerHTML = docLinkHtml;\n",
              "        element.appendChild(docLink);\n",
              "      }\n",
              "    </script>\n",
              "  </div>\n",
              "\n",
              "\n",
              "<div id=\"df-e70f4f42-f2f7-41b3-9cb2-2b5fb70b6475\">\n",
              "  <button class=\"colab-df-quickchart\" onclick=\"quickchart('df-e70f4f42-f2f7-41b3-9cb2-2b5fb70b6475')\"\n",
              "            title=\"Suggest charts\"\n",
              "            style=\"display:none;\">\n",
              "\n",
              "<svg xmlns=\"http://www.w3.org/2000/svg\" height=\"24px\"viewBox=\"0 0 24 24\"\n",
              "     width=\"24px\">\n",
              "    <g>\n",
              "        <path d=\"M19 3H5c-1.1 0-2 .9-2 2v14c0 1.1.9 2 2 2h14c1.1 0 2-.9 2-2V5c0-1.1-.9-2-2-2zM9 17H7v-7h2v7zm4 0h-2V7h2v10zm4 0h-2v-4h2v4z\"/>\n",
              "    </g>\n",
              "</svg>\n",
              "  </button>\n",
              "\n",
              "<style>\n",
              "  .colab-df-quickchart {\n",
              "      --bg-color: #E8F0FE;\n",
              "      --fill-color: #1967D2;\n",
              "      --hover-bg-color: #E2EBFA;\n",
              "      --hover-fill-color: #174EA6;\n",
              "      --disabled-fill-color: #AAA;\n",
              "      --disabled-bg-color: #DDD;\n",
              "  }\n",
              "\n",
              "  [theme=dark] .colab-df-quickchart {\n",
              "      --bg-color: #3B4455;\n",
              "      --fill-color: #D2E3FC;\n",
              "      --hover-bg-color: #434B5C;\n",
              "      --hover-fill-color: #FFFFFF;\n",
              "      --disabled-bg-color: #3B4455;\n",
              "      --disabled-fill-color: #666;\n",
              "  }\n",
              "\n",
              "  .colab-df-quickchart {\n",
              "    background-color: var(--bg-color);\n",
              "    border: none;\n",
              "    border-radius: 50%;\n",
              "    cursor: pointer;\n",
              "    display: none;\n",
              "    fill: var(--fill-color);\n",
              "    height: 32px;\n",
              "    padding: 0;\n",
              "    width: 32px;\n",
              "  }\n",
              "\n",
              "  .colab-df-quickchart:hover {\n",
              "    background-color: var(--hover-bg-color);\n",
              "    box-shadow: 0 1px 2px rgba(60, 64, 67, 0.3), 0 1px 3px 1px rgba(60, 64, 67, 0.15);\n",
              "    fill: var(--button-hover-fill-color);\n",
              "  }\n",
              "\n",
              "  .colab-df-quickchart-complete:disabled,\n",
              "  .colab-df-quickchart-complete:disabled:hover {\n",
              "    background-color: var(--disabled-bg-color);\n",
              "    fill: var(--disabled-fill-color);\n",
              "    box-shadow: none;\n",
              "  }\n",
              "\n",
              "  .colab-df-spinner {\n",
              "    border: 2px solid var(--fill-color);\n",
              "    border-color: transparent;\n",
              "    border-bottom-color: var(--fill-color);\n",
              "    animation:\n",
              "      spin 1s steps(1) infinite;\n",
              "  }\n",
              "\n",
              "  @keyframes spin {\n",
              "    0% {\n",
              "      border-color: transparent;\n",
              "      border-bottom-color: var(--fill-color);\n",
              "      border-left-color: var(--fill-color);\n",
              "    }\n",
              "    20% {\n",
              "      border-color: transparent;\n",
              "      border-left-color: var(--fill-color);\n",
              "      border-top-color: var(--fill-color);\n",
              "    }\n",
              "    30% {\n",
              "      border-color: transparent;\n",
              "      border-left-color: var(--fill-color);\n",
              "      border-top-color: var(--fill-color);\n",
              "      border-right-color: var(--fill-color);\n",
              "    }\n",
              "    40% {\n",
              "      border-color: transparent;\n",
              "      border-right-color: var(--fill-color);\n",
              "      border-top-color: var(--fill-color);\n",
              "    }\n",
              "    60% {\n",
              "      border-color: transparent;\n",
              "      border-right-color: var(--fill-color);\n",
              "    }\n",
              "    80% {\n",
              "      border-color: transparent;\n",
              "      border-right-color: var(--fill-color);\n",
              "      border-bottom-color: var(--fill-color);\n",
              "    }\n",
              "    90% {\n",
              "      border-color: transparent;\n",
              "      border-bottom-color: var(--fill-color);\n",
              "    }\n",
              "  }\n",
              "</style>\n",
              "\n",
              "  <script>\n",
              "    async function quickchart(key) {\n",
              "      const quickchartButtonEl =\n",
              "        document.querySelector('#' + key + ' button');\n",
              "      quickchartButtonEl.disabled = true;  // To prevent multiple clicks.\n",
              "      quickchartButtonEl.classList.add('colab-df-spinner');\n",
              "      try {\n",
              "        const charts = await google.colab.kernel.invokeFunction(\n",
              "            'suggestCharts', [key], {});\n",
              "      } catch (error) {\n",
              "        console.error('Error during call to suggestCharts:', error);\n",
              "      }\n",
              "      quickchartButtonEl.classList.remove('colab-df-spinner');\n",
              "      quickchartButtonEl.classList.add('colab-df-quickchart-complete');\n",
              "    }\n",
              "    (() => {\n",
              "      let quickchartButtonEl =\n",
              "        document.querySelector('#df-e70f4f42-f2f7-41b3-9cb2-2b5fb70b6475 button');\n",
              "      quickchartButtonEl.style.display =\n",
              "        google.colab.kernel.accessAllowed ? 'block' : 'none';\n",
              "    })();\n",
              "  </script>\n",
              "</div>\n",
              "\n",
              "    </div>\n",
              "  </div>\n"
            ],
            "application/vnd.google.colaboratory.intrinsic+json": {
              "type": "dataframe",
              "summary": "{\n  \"name\": \"student_df\",\n  \"rows\": 8,\n  \"fields\": [\n    {\n      \"column\": \"StudentID\",\n      \"properties\": {\n        \"dtype\": \"number\",\n        \"std\": 899.5406669561889,\n        \"min\": 690.6552444357942,\n        \"max\": 3392.0,\n        \"num_unique_values\": 7,\n        \"samples\": [\n          2392.0,\n          2196.5,\n          2794.25\n        ],\n        \"semantic_type\": \"\",\n        \"description\": \"\"\n      }\n    },\n    {\n      \"column\": \"Age\",\n      \"properties\": {\n        \"dtype\": \"number\",\n        \"std\": 840.7372733013522,\n        \"min\": 1.1237983798555635,\n        \"max\": 2392.0,\n        \"num_unique_values\": 7,\n        \"samples\": [\n          2392.0,\n          16.468645484949832,\n          17.0\n        ],\n        \"semantic_type\": \"\",\n        \"description\": \"\"\n      }\n    },\n    {\n      \"column\": \"Gender\",\n      \"properties\": {\n        \"dtype\": \"number\",\n        \"std\": 845.4972339448809,\n        \"min\": 0.0,\n        \"max\": 2392.0,\n        \"num_unique_values\": 5,\n        \"samples\": [\n          0.5108695652173914,\n          1.0,\n          0.49998636171459937\n        ],\n        \"semantic_type\": \"\",\n        \"description\": \"\"\n      }\n    },\n    {\n      \"column\": \"Ethnicity\",\n      \"properties\": {\n        \"dtype\": \"number\",\n        \"std\": 845.3515826221379,\n        \"min\": 0.0,\n        \"max\": 2392.0,\n        \"num_unique_values\": 6,\n        \"samples\": [\n          2392.0,\n          0.8775083612040134,\n          3.0\n        ],\n        \"semantic_type\": \"\",\n        \"description\": \"\"\n      }\n    },\n    {\n      \"column\": \"ParentalEducation\",\n      \"properties\": {\n        \"dtype\": \"number\",\n        \"std\": 845.1072042206252,\n        \"min\": 0.0,\n        \"max\": 2392.0,\n        \"num_unique_values\": 7,\n        \"samples\": [\n          2392.0,\n          1.74623745819398,\n          2.0\n        ],\n        \"semantic_type\": \"\",\n        \"description\": \"\"\n      }\n    },\n    {\n      \"column\": \"StudyTimeWeekly\",\n      \"properties\": {\n        \"dtype\": \"number\",\n        \"std\": 842.4608043173212,\n        \"min\": 0.001056538645936,\n        \"max\": 2392.0,\n        \"num_unique_values\": 8,\n        \"samples\": [\n          9.771991919431738,\n          9.705363212574394,\n          2392.0\n        ],\n        \"semantic_type\": \"\",\n        \"description\": \"\"\n      }\n    },\n    {\n      \"column\": \"Absences\",\n      \"properties\": {\n        \"dtype\": \"number\",\n        \"std\": 840.8985561537174,\n        \"min\": 0.0,\n        \"max\": 2392.0,\n        \"num_unique_values\": 8,\n        \"samples\": [\n          14.54138795986622,\n          15.0,\n          2392.0\n        ],\n        \"semantic_type\": \"\",\n        \"description\": \"\"\n      }\n    },\n    {\n      \"column\": \"Tutoring\",\n      \"properties\": {\n        \"dtype\": \"number\",\n        \"std\": 845.5603918814832,\n        \"min\": 0.0,\n        \"max\": 2392.0,\n        \"num_unique_values\": 5,\n        \"samples\": [\n          0.30142140468227424,\n          1.0,\n          0.4589712494146574\n        ],\n        \"semantic_type\": \"\",\n        \"description\": \"\"\n      }\n    },\n    {\n      \"column\": \"ParentalSupport\",\n      \"properties\": {\n        \"dtype\": \"number\",\n        \"std\": 845.031647204587,\n        \"min\": 0.0,\n        \"max\": 2392.0,\n        \"num_unique_values\": 8,\n        \"samples\": [\n          2.1220735785953178,\n          2.0,\n          2392.0\n        ],\n        \"semantic_type\": \"\",\n        \"description\": \"\"\n      }\n    },\n    {\n      \"column\": \"Extracurricular\",\n      \"properties\": {\n        \"dtype\": \"number\",\n        \"std\": 845.5548721440865,\n        \"min\": 0.0,\n        \"max\": 2392.0,\n        \"num_unique_values\": 5,\n        \"samples\": [\n          0.3833612040133779,\n          1.0,\n          0.4863067551542173\n        ],\n        \"semantic_type\": \"\",\n        \"description\": \"\"\n      }\n    },\n    {\n      \"column\": \"Sports\",\n      \"properties\": {\n        \"dtype\": \"number\",\n        \"std\": 845.5602408699849,\n        \"min\": 0.0,\n        \"max\": 2392.0,\n        \"num_unique_values\": 5,\n        \"samples\": [\n          0.30351170568561875,\n          1.0,\n          0.45987037509191175\n        ],\n        \"semantic_type\": \"\",\n        \"description\": \"\"\n      }\n    },\n    {\n      \"column\": \"Music\",\n      \"properties\": {\n        \"dtype\": \"number\",\n        \"std\": 845.6192387094806,\n        \"min\": 0.0,\n        \"max\": 2392.0,\n        \"num_unique_values\": 5,\n        \"samples\": [\n          0.19690635451505017,\n          1.0,\n          0.39774411290297657\n        ],\n        \"semantic_type\": \"\",\n        \"description\": \"\"\n      }\n    },\n    {\n      \"column\": \"Volunteering\",\n      \"properties\": {\n        \"dtype\": \"number\",\n        \"std\": 845.6229455406861,\n        \"min\": 0.0,\n        \"max\": 2392.0,\n        \"num_unique_values\": 5,\n        \"samples\": [\n          0.15719063545150502,\n          1.0,\n          0.3640565177064976\n        ],\n        \"semantic_type\": \"\",\n        \"description\": \"\"\n      }\n    },\n    {\n      \"column\": \"GPA\",\n      \"properties\": {\n        \"dtype\": \"number\",\n        \"std\": 845.0686121782031,\n        \"min\": 0.0,\n        \"max\": 2392.0,\n        \"num_unique_values\": 8,\n        \"samples\": [\n          1.9061863027265407,\n          1.8933926937866847,\n          2392.0\n        ],\n        \"semantic_type\": \"\",\n        \"description\": \"\"\n      }\n    },\n    {\n      \"column\": \"GradeClass\",\n      \"properties\": {\n        \"dtype\": \"number\",\n        \"std\": 844.780851811644,\n        \"min\": 0.0,\n        \"max\": 2392.0,\n        \"num_unique_values\": 6,\n        \"samples\": [\n          2392.0,\n          2.983695652173913,\n          4.0\n        ],\n        \"semantic_type\": \"\",\n        \"description\": \"\"\n      }\n    }\n  ]\n}"
            }
          },
          "metadata": {},
          "execution_count": 15
        }
      ],
      "execution_count": 15
    },
    {
      "cell_type": "code",
      "source": [
        "# Is there any null values?\n",
        "student_df.isnull().sum()"
      ],
      "metadata": {
        "trusted": true,
        "execution": {
          "iopub.status.busy": "2024-11-20T01:01:11.628168Z",
          "iopub.execute_input": "2024-11-20T01:01:11.62852Z",
          "iopub.status.idle": "2024-11-20T01:01:11.637203Z",
          "shell.execute_reply.started": "2024-11-20T01:01:11.628487Z",
          "shell.execute_reply": "2024-11-20T01:01:11.636Z"
        },
        "id": "7ODntYbwrjq8",
        "outputId": "a6aa4119-b30a-4677-a27f-8726a3f4761e",
        "colab": {
          "base_uri": "https://localhost:8080/",
          "height": 537
        }
      },
      "outputs": [
        {
          "output_type": "execute_result",
          "data": {
            "text/plain": [
              "StudentID            0\n",
              "Age                  0\n",
              "Gender               0\n",
              "Ethnicity            0\n",
              "ParentalEducation    0\n",
              "StudyTimeWeekly      0\n",
              "Absences             0\n",
              "Tutoring             0\n",
              "ParentalSupport      0\n",
              "Extracurricular      0\n",
              "Sports               0\n",
              "Music                0\n",
              "Volunteering         0\n",
              "GPA                  0\n",
              "GradeClass           0\n",
              "dtype: int64"
            ],
            "text/html": [
              "<div>\n",
              "<style scoped>\n",
              "    .dataframe tbody tr th:only-of-type {\n",
              "        vertical-align: middle;\n",
              "    }\n",
              "\n",
              "    .dataframe tbody tr th {\n",
              "        vertical-align: top;\n",
              "    }\n",
              "\n",
              "    .dataframe thead th {\n",
              "        text-align: right;\n",
              "    }\n",
              "</style>\n",
              "<table border=\"1\" class=\"dataframe\">\n",
              "  <thead>\n",
              "    <tr style=\"text-align: right;\">\n",
              "      <th></th>\n",
              "      <th>0</th>\n",
              "    </tr>\n",
              "  </thead>\n",
              "  <tbody>\n",
              "    <tr>\n",
              "      <th>StudentID</th>\n",
              "      <td>0</td>\n",
              "    </tr>\n",
              "    <tr>\n",
              "      <th>Age</th>\n",
              "      <td>0</td>\n",
              "    </tr>\n",
              "    <tr>\n",
              "      <th>Gender</th>\n",
              "      <td>0</td>\n",
              "    </tr>\n",
              "    <tr>\n",
              "      <th>Ethnicity</th>\n",
              "      <td>0</td>\n",
              "    </tr>\n",
              "    <tr>\n",
              "      <th>ParentalEducation</th>\n",
              "      <td>0</td>\n",
              "    </tr>\n",
              "    <tr>\n",
              "      <th>StudyTimeWeekly</th>\n",
              "      <td>0</td>\n",
              "    </tr>\n",
              "    <tr>\n",
              "      <th>Absences</th>\n",
              "      <td>0</td>\n",
              "    </tr>\n",
              "    <tr>\n",
              "      <th>Tutoring</th>\n",
              "      <td>0</td>\n",
              "    </tr>\n",
              "    <tr>\n",
              "      <th>ParentalSupport</th>\n",
              "      <td>0</td>\n",
              "    </tr>\n",
              "    <tr>\n",
              "      <th>Extracurricular</th>\n",
              "      <td>0</td>\n",
              "    </tr>\n",
              "    <tr>\n",
              "      <th>Sports</th>\n",
              "      <td>0</td>\n",
              "    </tr>\n",
              "    <tr>\n",
              "      <th>Music</th>\n",
              "      <td>0</td>\n",
              "    </tr>\n",
              "    <tr>\n",
              "      <th>Volunteering</th>\n",
              "      <td>0</td>\n",
              "    </tr>\n",
              "    <tr>\n",
              "      <th>GPA</th>\n",
              "      <td>0</td>\n",
              "    </tr>\n",
              "    <tr>\n",
              "      <th>GradeClass</th>\n",
              "      <td>0</td>\n",
              "    </tr>\n",
              "  </tbody>\n",
              "</table>\n",
              "</div><br><label><b>dtype:</b> int64</label>"
            ]
          },
          "metadata": {},
          "execution_count": 16
        }
      ],
      "execution_count": 16
    },
    {
      "cell_type": "markdown",
      "source": [
        "No Null Values! :D"
      ],
      "metadata": {
        "id": "NiV9LbPLrjq8"
      }
    },
    {
      "cell_type": "code",
      "source": [
        "# Lets see the dtypes we're working with\n",
        "student_df.dtypes"
      ],
      "metadata": {
        "trusted": true,
        "execution": {
          "iopub.status.busy": "2024-11-20T01:01:11.638598Z",
          "iopub.execute_input": "2024-11-20T01:01:11.638936Z",
          "iopub.status.idle": "2024-11-20T01:01:11.653279Z",
          "shell.execute_reply.started": "2024-11-20T01:01:11.638904Z",
          "shell.execute_reply": "2024-11-20T01:01:11.652162Z"
        },
        "id": "lH2xVdvLrjq8",
        "outputId": "e59f9738-47cc-42a0-9d8d-3b4beaf14f58",
        "colab": {
          "base_uri": "https://localhost:8080/",
          "height": 537
        }
      },
      "outputs": [
        {
          "output_type": "execute_result",
          "data": {
            "text/plain": [
              "StudentID              int64\n",
              "Age                    int64\n",
              "Gender                 int64\n",
              "Ethnicity              int64\n",
              "ParentalEducation      int64\n",
              "StudyTimeWeekly      float64\n",
              "Absences               int64\n",
              "Tutoring               int64\n",
              "ParentalSupport        int64\n",
              "Extracurricular        int64\n",
              "Sports                 int64\n",
              "Music                  int64\n",
              "Volunteering           int64\n",
              "GPA                  float64\n",
              "GradeClass           float64\n",
              "dtype: object"
            ],
            "text/html": [
              "<div>\n",
              "<style scoped>\n",
              "    .dataframe tbody tr th:only-of-type {\n",
              "        vertical-align: middle;\n",
              "    }\n",
              "\n",
              "    .dataframe tbody tr th {\n",
              "        vertical-align: top;\n",
              "    }\n",
              "\n",
              "    .dataframe thead th {\n",
              "        text-align: right;\n",
              "    }\n",
              "</style>\n",
              "<table border=\"1\" class=\"dataframe\">\n",
              "  <thead>\n",
              "    <tr style=\"text-align: right;\">\n",
              "      <th></th>\n",
              "      <th>0</th>\n",
              "    </tr>\n",
              "  </thead>\n",
              "  <tbody>\n",
              "    <tr>\n",
              "      <th>StudentID</th>\n",
              "      <td>int64</td>\n",
              "    </tr>\n",
              "    <tr>\n",
              "      <th>Age</th>\n",
              "      <td>int64</td>\n",
              "    </tr>\n",
              "    <tr>\n",
              "      <th>Gender</th>\n",
              "      <td>int64</td>\n",
              "    </tr>\n",
              "    <tr>\n",
              "      <th>Ethnicity</th>\n",
              "      <td>int64</td>\n",
              "    </tr>\n",
              "    <tr>\n",
              "      <th>ParentalEducation</th>\n",
              "      <td>int64</td>\n",
              "    </tr>\n",
              "    <tr>\n",
              "      <th>StudyTimeWeekly</th>\n",
              "      <td>float64</td>\n",
              "    </tr>\n",
              "    <tr>\n",
              "      <th>Absences</th>\n",
              "      <td>int64</td>\n",
              "    </tr>\n",
              "    <tr>\n",
              "      <th>Tutoring</th>\n",
              "      <td>int64</td>\n",
              "    </tr>\n",
              "    <tr>\n",
              "      <th>ParentalSupport</th>\n",
              "      <td>int64</td>\n",
              "    </tr>\n",
              "    <tr>\n",
              "      <th>Extracurricular</th>\n",
              "      <td>int64</td>\n",
              "    </tr>\n",
              "    <tr>\n",
              "      <th>Sports</th>\n",
              "      <td>int64</td>\n",
              "    </tr>\n",
              "    <tr>\n",
              "      <th>Music</th>\n",
              "      <td>int64</td>\n",
              "    </tr>\n",
              "    <tr>\n",
              "      <th>Volunteering</th>\n",
              "      <td>int64</td>\n",
              "    </tr>\n",
              "    <tr>\n",
              "      <th>GPA</th>\n",
              "      <td>float64</td>\n",
              "    </tr>\n",
              "    <tr>\n",
              "      <th>GradeClass</th>\n",
              "      <td>float64</td>\n",
              "    </tr>\n",
              "  </tbody>\n",
              "</table>\n",
              "</div><br><label><b>dtype:</b> object</label>"
            ]
          },
          "metadata": {},
          "execution_count": 17
        }
      ],
      "execution_count": 17
    },
    {
      "cell_type": "markdown",
      "source": [
        "Theres No String Vals Just Numerical (continuous and discrete)"
      ],
      "metadata": {
        "id": "lufG9gS8rjq8"
      }
    },
    {
      "cell_type": "code",
      "source": [
        "# # Replace infinite values with NaN in the entire DataFrame\n",
        "# student_df.replace([float('inf'), -float('inf')], np.nan, inplace=True)\n",
        "\n",
        "# import numpy as np\n",
        "\n",
        "# Round Study Time Weekly into Numerical (Discrete)\n",
        "student_df['StudyTimeWeekly'] = student_df['StudyTimeWeekly'].apply(lambda x : round(x))\n",
        "student_df['StudyTimeWeekly'].head()"
      ],
      "metadata": {
        "trusted": true,
        "execution": {
          "iopub.status.busy": "2024-11-20T01:01:11.654591Z",
          "iopub.execute_input": "2024-11-20T01:01:11.655055Z",
          "iopub.status.idle": "2024-11-20T01:01:11.674217Z",
          "shell.execute_reply.started": "2024-11-20T01:01:11.654996Z",
          "shell.execute_reply": "2024-11-20T01:01:11.673097Z"
        },
        "id": "JmQARYNlrjq8",
        "outputId": "2e719d8f-4db7-4068-cf6d-de620a67c38a",
        "colab": {
          "base_uri": "https://localhost:8080/",
          "height": 234
        }
      },
      "outputs": [
        {
          "output_type": "execute_result",
          "data": {
            "text/plain": [
              "0    20\n",
              "1    15\n",
              "2     4\n",
              "3    10\n",
              "4     5\n",
              "Name: StudyTimeWeekly, dtype: int64"
            ],
            "text/html": [
              "<div>\n",
              "<style scoped>\n",
              "    .dataframe tbody tr th:only-of-type {\n",
              "        vertical-align: middle;\n",
              "    }\n",
              "\n",
              "    .dataframe tbody tr th {\n",
              "        vertical-align: top;\n",
              "    }\n",
              "\n",
              "    .dataframe thead th {\n",
              "        text-align: right;\n",
              "    }\n",
              "</style>\n",
              "<table border=\"1\" class=\"dataframe\">\n",
              "  <thead>\n",
              "    <tr style=\"text-align: right;\">\n",
              "      <th></th>\n",
              "      <th>StudyTimeWeekly</th>\n",
              "    </tr>\n",
              "  </thead>\n",
              "  <tbody>\n",
              "    <tr>\n",
              "      <th>0</th>\n",
              "      <td>20</td>\n",
              "    </tr>\n",
              "    <tr>\n",
              "      <th>1</th>\n",
              "      <td>15</td>\n",
              "    </tr>\n",
              "    <tr>\n",
              "      <th>2</th>\n",
              "      <td>4</td>\n",
              "    </tr>\n",
              "    <tr>\n",
              "      <th>3</th>\n",
              "      <td>10</td>\n",
              "    </tr>\n",
              "    <tr>\n",
              "      <th>4</th>\n",
              "      <td>5</td>\n",
              "    </tr>\n",
              "  </tbody>\n",
              "</table>\n",
              "</div><br><label><b>dtype:</b> int64</label>"
            ]
          },
          "metadata": {},
          "execution_count": 18
        }
      ],
      "execution_count": 18
    },
    {
      "cell_type": "code",
      "source": [
        "# create a new column 'sex_male' (1 if male, 0 if female)\n",
        "student_df['sex_male'] = student_df['Gender'].apply(lambda x: 1 if x == 0 else 0)\n",
        "\n",
        "# create a new column 'sex_female' (1 if female, 0 if male)\n",
        "student_df['sex_female'] = student_df['Gender'].apply(lambda x: 1 if x == 1 else 0)\n",
        "\n",
        "print(student_df[['Gender', 'sex_male', 'sex_female']].head())"
      ],
      "metadata": {
        "trusted": true,
        "execution": {
          "iopub.status.busy": "2024-11-20T01:01:11.6754Z",
          "iopub.execute_input": "2024-11-20T01:01:11.675865Z",
          "iopub.status.idle": "2024-11-20T01:01:11.700164Z",
          "shell.execute_reply.started": "2024-11-20T01:01:11.675831Z",
          "shell.execute_reply": "2024-11-20T01:01:11.699003Z"
        },
        "id": "Xell8zVPrjq9",
        "outputId": "4fae48aa-c14b-4f48-c0e7-120939418b8b",
        "colab": {
          "base_uri": "https://localhost:8080/"
        }
      },
      "outputs": [
        {
          "output_type": "stream",
          "name": "stdout",
          "text": [
            "   Gender  sex_male  sex_female\n",
            "0       1         0           1\n",
            "1       0         1           0\n",
            "2       0         1           0\n",
            "3       1         0           1\n",
            "4       1         0           1\n"
          ]
        }
      ],
      "execution_count": 19
    },
    {
      "cell_type": "code",
      "source": [
        "# df_sub = student_df[['Age', 'sex_male', 'sex_female','Absences', 'StudyTimeWeekly']]\n",
        "# sns.pairplot(df_sub, hue='GradeClass')"
      ],
      "metadata": {
        "trusted": true,
        "execution": {
          "iopub.status.busy": "2024-11-20T01:01:11.701692Z",
          "iopub.execute_input": "2024-11-20T01:01:11.702214Z",
          "iopub.status.idle": "2024-11-20T01:01:11.716777Z",
          "shell.execute_reply.started": "2024-11-20T01:01:11.702077Z",
          "shell.execute_reply": "2024-11-20T01:01:11.715385Z"
        },
        "id": "A8AWPvngrjq9"
      },
      "outputs": [],
      "execution_count": 20
    },
    {
      "cell_type": "markdown",
      "source": [
        "# 2. Select and Engineer Features."
      ],
      "metadata": {
        "id": "x7YhjEkarjq9"
      }
    },
    {
      "cell_type": "markdown",
      "source": [
        "## 2.1 Independent & Dependent variable(s)"
      ],
      "metadata": {
        "id": "ia4RiUiFrjq9"
      }
    },
    {
      "cell_type": "markdown",
      "source": [
        "Create list of features that will be used. Exclude student ID has that doesn't help me perform better at school."
      ],
      "metadata": {
        "id": "fjKFvBMarjq9"
      }
    },
    {
      "cell_type": "code",
      "source": [
        "# Create list of features you will be using. (exclude student ID & GPA)\n",
        "selected_features = ['Age', 'sex_male', 'sex_female', 'ParentalEducation',\n",
        "       'StudyTimeWeekly', 'Absences', 'Tutoring', 'ParentalSupport',\n",
        "       'Extracurricular', 'Sports', 'Music', 'Volunteering']\n",
        "\n",
        "# Easier way to get list of columns\n",
        "# student_df.columns"
      ],
      "metadata": {
        "trusted": true,
        "execution": {
          "iopub.status.busy": "2024-11-20T01:01:11.718025Z",
          "iopub.execute_input": "2024-11-20T01:01:11.71841Z",
          "iopub.status.idle": "2024-11-20T01:01:11.730453Z",
          "shell.execute_reply.started": "2024-11-20T01:01:11.718374Z",
          "shell.execute_reply": "2024-11-20T01:01:11.729142Z"
        },
        "id": "Xz_I35jQrjq9"
      },
      "outputs": [],
      "execution_count": 21
    },
    {
      "cell_type": "code",
      "source": [
        "# Define our 'X' and 'y'\n",
        "X = student_df[selected_features] # independent variables\n",
        "y = student_df['GradeClass'] # dependent variable"
      ],
      "metadata": {
        "trusted": true,
        "execution": {
          "iopub.status.busy": "2024-11-20T01:01:11.731963Z",
          "iopub.execute_input": "2024-11-20T01:01:11.732345Z",
          "iopub.status.idle": "2024-11-20T01:01:11.756225Z",
          "shell.execute_reply.started": "2024-11-20T01:01:11.732309Z",
          "shell.execute_reply": "2024-11-20T01:01:11.754746Z"
        },
        "id": "0IvJxfhdrjq9"
      },
      "outputs": [],
      "execution_count": 22
    },
    {
      "cell_type": "markdown",
      "source": [
        "## 2.2 Train Test Split\n",
        "\n",
        "* for now lets try 70:30 (train:test)"
      ],
      "metadata": {
        "id": "uwD-8eFWrjq-"
      }
    },
    {
      "cell_type": "code",
      "source": [
        "# Split our data into training and testing sets. 70:30 -> (train:test)\n",
        "X_train, X_test, y_train, y_test = train_test_split(X, y, test_size=0.3, random_state=42)\n",
        "\n",
        "print('Length of our Training data:', X_train.shape,\n",
        "      '\\nLength of our Testing data:', y_test.shape)"
      ],
      "metadata": {
        "trusted": true,
        "execution": {
          "iopub.status.busy": "2024-11-20T01:03:25.754848Z",
          "iopub.execute_input": "2024-11-20T01:03:25.755333Z",
          "iopub.status.idle": "2024-11-20T01:03:25.766119Z",
          "shell.execute_reply.started": "2024-11-20T01:03:25.755293Z",
          "shell.execute_reply": "2024-11-20T01:03:25.765034Z"
        },
        "id": "oZd9f0OCrjq-",
        "outputId": "467a7a24-655a-499c-af73-f9aa61583212",
        "colab": {
          "base_uri": "https://localhost:8080/"
        }
      },
      "outputs": [
        {
          "output_type": "stream",
          "name": "stdout",
          "text": [
            "Length of our Training data: (1674, 12) \n",
            "Length of our Testing data: (718,)\n"
          ]
        }
      ],
      "execution_count": 23
    },
    {
      "cell_type": "markdown",
      "source": [
        "## 2.3 Find the best parameters to train RandomForestClassifier!"
      ],
      "metadata": {
        "id": "gELTQf-KvMs1"
      }
    },
    {
      "cell_type": "code",
      "source": [
        "param_grid = {\n",
        "    'criterion': ['gini', 'entropy', 'log_loss'],\n",
        "    'n_estimators': [50, 100, 150],\n",
        "    'max_depth': [None, 5, 10],\n",
        "    'min_samples_split': [5, 10, 20],\n",
        "}\n",
        "\n",
        "grid_search = GridSearchCV(estimator=RandomForestClassifier(random_state=42),\n",
        "                           param_grid=param_grid)\n",
        "\n",
        "grid_search.fit(X_train, y_train)\n",
        "\n",
        "print(f\"Best parameters: {grid_search.best_params_}\")"
      ],
      "metadata": {
        "trusted": true,
        "execution": {
          "iopub.status.busy": "2024-11-20T01:03:28.860838Z",
          "iopub.execute_input": "2024-11-20T01:03:28.861287Z",
          "iopub.status.idle": "2024-11-20T01:05:11.611937Z",
          "shell.execute_reply.started": "2024-11-20T01:03:28.86125Z",
          "shell.execute_reply": "2024-11-20T01:05:11.610648Z"
        },
        "id": "Pg6H5zrfrjq-",
        "outputId": "16c489a9-d87b-43ca-9eee-daed9b25d704",
        "colab": {
          "base_uri": "https://localhost:8080/"
        }
      },
      "outputs": [
        {
          "output_type": "stream",
          "name": "stdout",
          "text": [
            "Best parameters: {'criterion': 'entropy', 'max_depth': 10, 'min_samples_split': 5, 'n_estimators': 100}\n"
          ]
        }
      ],
      "execution_count": 24
    },
    {
      "cell_type": "markdown",
      "source": [
        "- Ok now that we have our best parameters lets train, build, and evauluate our Model!"
      ],
      "metadata": {
        "id": "wYV2N2t3vcEW"
      }
    },
    {
      "cell_type": "markdown",
      "source": [
        "# 3. Create RandomForestClassifier Model!"
      ],
      "metadata": {
        "id": "hipHGg8_vrv9"
      }
    },
    {
      "cell_type": "markdown",
      "source": [
        "## 3.1 B.T.E. (Build Train Evaluate)\n"
      ],
      "metadata": {
        "id": "9E_4HdcfwV2s"
      }
    },
    {
      "cell_type": "code",
      "source": [
        "# BUILD, TRAIN, AND EVAULATE A RANDOM FOREST MODEL BELOW.\n",
        "\n",
        "model = grid_search.best_estimator_\n",
        "\n",
        "y_pred = model.predict(X_test)\n",
        "\n",
        "# evaluate and print our model scores using accuracy, precision, recall, f1 scores.\n",
        "accuracy = accuracy_score(y_test, y_pred)\n",
        "print(\"Accuracy Score: %f\" % accuracy)\n",
        "\n",
        "precision = precision_score(y_test, y_pred, average='weighted')\n",
        "print(\"Precision Score: %f\" % precision)\n",
        "\n",
        "recall = recall_score(y_test, y_pred, average='weighted')\n",
        "print(\"Recall Score: %f\" % recall)\n",
        "\n",
        "f1 = f1_score(y_test, y_pred, average='weighted')\n",
        "print('F1 Score: %f' % f1)\n",
        "\n",
        "# Calculate predicted probabilities\n",
        "y_pred_proba = model.predict_proba(X_test)\n",
        "\n",
        "# Keep only the proba for True\n",
        "y_pred_proba = y_pred_proba[:,1]"
      ],
      "metadata": {
        "trusted": true,
        "execution": {
          "iopub.status.busy": "2024-11-20T01:05:11.691782Z",
          "iopub.execute_input": "2024-11-20T01:05:11.692098Z",
          "iopub.status.idle": "2024-11-20T01:05:11.769031Z",
          "shell.execute_reply.started": "2024-11-20T01:05:11.692069Z",
          "shell.execute_reply": "2024-11-20T01:05:11.767895Z"
        },
        "id": "EvZJh0PHrjq-",
        "outputId": "2971f102-68dd-490d-8c60-79be8b9ed581",
        "colab": {
          "base_uri": "https://localhost:8080/",
          "height": 512
        }
      },
      "outputs": [
        {
          "output_type": "stream",
          "name": "stdout",
          "text": [
            "Accuracy Score: 0.714485\n",
            "Precision Score: 0.706052\n",
            "Recall Score: 0.714485\n",
            "F1 Score: 0.692865\n"
          ]
        },
        {
          "output_type": "execute_result",
          "data": {
            "text/plain": [
              "Absences             0.531561\n",
              "StudyTimeWeekly      0.124716\n",
              "ParentalSupport      0.072452\n",
              "ParentalEducation    0.056419\n",
              "Age                  0.051228\n",
              "Tutoring             0.031748\n",
              "Sports               0.029828\n",
              "Extracurricular      0.029419\n",
              "Music                0.022462\n",
              "Volunteering         0.018552\n",
              "sex_male             0.016078\n",
              "sex_female           0.015538\n",
              "dtype: float64"
            ],
            "text/html": [
              "<div>\n",
              "<style scoped>\n",
              "    .dataframe tbody tr th:only-of-type {\n",
              "        vertical-align: middle;\n",
              "    }\n",
              "\n",
              "    .dataframe tbody tr th {\n",
              "        vertical-align: top;\n",
              "    }\n",
              "\n",
              "    .dataframe thead th {\n",
              "        text-align: right;\n",
              "    }\n",
              "</style>\n",
              "<table border=\"1\" class=\"dataframe\">\n",
              "  <thead>\n",
              "    <tr style=\"text-align: right;\">\n",
              "      <th></th>\n",
              "      <th>0</th>\n",
              "    </tr>\n",
              "  </thead>\n",
              "  <tbody>\n",
              "    <tr>\n",
              "      <th>Absences</th>\n",
              "      <td>0.531561</td>\n",
              "    </tr>\n",
              "    <tr>\n",
              "      <th>StudyTimeWeekly</th>\n",
              "      <td>0.124716</td>\n",
              "    </tr>\n",
              "    <tr>\n",
              "      <th>ParentalSupport</th>\n",
              "      <td>0.072452</td>\n",
              "    </tr>\n",
              "    <tr>\n",
              "      <th>ParentalEducation</th>\n",
              "      <td>0.056419</td>\n",
              "    </tr>\n",
              "    <tr>\n",
              "      <th>Age</th>\n",
              "      <td>0.051228</td>\n",
              "    </tr>\n",
              "    <tr>\n",
              "      <th>Tutoring</th>\n",
              "      <td>0.031748</td>\n",
              "    </tr>\n",
              "    <tr>\n",
              "      <th>Sports</th>\n",
              "      <td>0.029828</td>\n",
              "    </tr>\n",
              "    <tr>\n",
              "      <th>Extracurricular</th>\n",
              "      <td>0.029419</td>\n",
              "    </tr>\n",
              "    <tr>\n",
              "      <th>Music</th>\n",
              "      <td>0.022462</td>\n",
              "    </tr>\n",
              "    <tr>\n",
              "      <th>Volunteering</th>\n",
              "      <td>0.018552</td>\n",
              "    </tr>\n",
              "    <tr>\n",
              "      <th>sex_male</th>\n",
              "      <td>0.016078</td>\n",
              "    </tr>\n",
              "    <tr>\n",
              "      <th>sex_female</th>\n",
              "      <td>0.015538</td>\n",
              "    </tr>\n",
              "  </tbody>\n",
              "</table>\n",
              "</div><br><label><b>dtype:</b> float64</label>"
            ]
          },
          "metadata": {},
          "execution_count": 25
        }
      ],
      "execution_count": 25
    },
    {
      "cell_type": "markdown",
      "source": [
        "## Now this might look bad but we have to remember the following:\n",
        "* issue is without GPA our model predicts pretty low :(\n",
        "* but we want to see what will give the student the most advantage beside their current GPA."
      ],
      "metadata": {
        "id": "7QFt2Vevrjq-"
      }
    },
    {
      "cell_type": "markdown",
      "source": [],
      "metadata": {
        "id": "ynVG5XTCwMOx"
      }
    },
    {
      "cell_type": "markdown",
      "source": [
        "## 3.2 What is the most important feature for determining how well you will perform?"
      ],
      "metadata": {
        "id": "0rw-WSKarjq-"
      }
    },
    {
      "cell_type": "code",
      "source": [
        "feature_imp.idxmax()"
      ],
      "metadata": {
        "trusted": true,
        "execution": {
          "iopub.status.busy": "2024-11-20T01:02:49.728237Z",
          "iopub.execute_input": "2024-11-20T01:02:49.7286Z",
          "iopub.status.idle": "2024-11-20T01:02:49.735756Z",
          "shell.execute_reply.started": "2024-11-20T01:02:49.728558Z",
          "shell.execute_reply": "2024-11-20T01:02:49.734483Z"
        },
        "id": "Lr4qAye2rjq-",
        "outputId": "a4f02f84-da99-4281-bf56-4925ac0f0d88",
        "colab": {
          "base_uri": "https://localhost:8080/",
          "height": 34
        }
      },
      "outputs": [
        {
          "output_type": "execute_result",
          "data": {
            "text/plain": [
              "'Absences'"
            ],
            "application/vnd.google.colaboratory.intrinsic+json": {
              "type": "string"
            }
          },
          "metadata": {},
          "execution_count": 26
        }
      ],
      "execution_count": 26
    },
    {
      "cell_type": "markdown",
      "source": [
        "* previously if we were to use GPA in our datset it would be the most important feature we use but now we can say that absences plays the most important role.\n",
        "\n",
        "* which makes sense if you miss school a lot.\n",
        "\n",
        "## 3.3 Grab Classification Report"
      ],
      "metadata": {
        "id": "R4_0rasFrjq_"
      }
    },
    {
      "cell_type": "code",
      "source": [
        "# Generate the classification report\n",
        "report = classification_report(y_test, y_pred)\n",
        "\n",
        "# Print the classification report\n",
        "print(report)"
      ],
      "metadata": {
        "trusted": true,
        "execution": {
          "iopub.status.busy": "2024-11-20T01:02:49.737278Z",
          "iopub.execute_input": "2024-11-20T01:02:49.737636Z",
          "iopub.status.idle": "2024-11-20T01:02:49.759412Z",
          "shell.execute_reply.started": "2024-11-20T01:02:49.737583Z",
          "shell.execute_reply": "2024-11-20T01:02:49.757781Z"
        },
        "id": "I_TsDUgcrjq_",
        "outputId": "958b2a10-6b42-44d7-be73-b808f0f2abc6",
        "colab": {
          "base_uri": "https://localhost:8080/"
        }
      },
      "outputs": [
        {
          "output_type": "stream",
          "name": "stdout",
          "text": [
            "              precision    recall  f1-score   support\n",
            "\n",
            "         0.0       0.80      0.12      0.21        33\n",
            "         1.0       0.51      0.50      0.50        80\n",
            "         2.0       0.52      0.59      0.55       121\n",
            "         3.0       0.60      0.41      0.49       127\n",
            "         4.0       0.84      0.97      0.90       357\n",
            "\n",
            "    accuracy                           0.71       718\n",
            "   macro avg       0.65      0.52      0.53       718\n",
            "weighted avg       0.71      0.71      0.69       718\n",
            "\n"
          ]
        }
      ],
      "execution_count": 27
    },
    {
      "cell_type": "markdown",
      "source": [
        "* These reports look rough but we are looking for what it will predict with such scores without relying on GPA."
      ],
      "metadata": {
        "id": "RTxqgtqWwxQA"
      }
    },
    {
      "cell_type": "markdown",
      "source": [
        "# 4. Cross Validation & Visualization!"
      ],
      "metadata": {
        "id": "9omTeVerw6HM"
      }
    },
    {
      "cell_type": "markdown",
      "source": [
        "## 4.1 Does our model overfit?\n",
        "\n",
        "* Here lets use cross validation to see how well our model is doing behind the scenes with train data & test data."
      ],
      "metadata": {
        "id": "cAnVMaLGxcD-"
      }
    },
    {
      "cell_type": "code",
      "source": [
        "scoring = {\n",
        "    \"accuracy\": make_scorer(accuracy_score),\n",
        "    \"precision\": make_scorer(precision_score, average='weighted'),  # multiclass = weighted\n",
        "    \"recall\": make_scorer(recall_score, average='weighted')      # multiclass = weighted\n",
        "}\n",
        "\n",
        "cv_results = cross_validate(\n",
        "    estimator=model,\n",
        "    X=X_train,    #\n",
        "    y=y_train,\n",
        "    scoring=scoring,\n",
        "    return_train_score=True,\n",
        "    cv=10\n",
        ")\n",
        "\n",
        "# Accessing the results\n",
        "print(cv_results['train_accuracy'])  # Training accuracy for each fold\n",
        "print(cv_results['test_accuracy'])   # Test accuracy for each fold\n",
        "print(cv_results['train_precision']) # Training precision for each fold\n",
        "print(cv_results['test_precision'])  # Test precision for each fold\n",
        "print(cv_results['train_recall'])    # Training recall for each fold\n",
        "print(cv_results['test_recall'])     # Test recall for each fold"
      ],
      "metadata": {
        "id": "_E-sOIpkuE2Y",
        "outputId": "813dc7a3-5bf9-4321-a4a4-7d470314c1ed",
        "colab": {
          "base_uri": "https://localhost:8080/"
        }
      },
      "execution_count": 28,
      "outputs": [
        {
          "output_type": "stream",
          "name": "stdout",
          "text": [
            "[0.9309429  0.93227092 0.92363878 0.92563081 0.9270073  0.92899801\n",
            " 0.92634373 0.93098872 0.9270073  0.92501659]\n",
            "[0.69047619 0.73214286 0.7202381  0.73809524 0.71856287 0.7245509\n",
            " 0.70658683 0.68263473 0.71856287 0.73053892]\n",
            "[0.93278099 0.9341673  0.92661995 0.92784878 0.92929686 0.93127319\n",
            " 0.92809337 0.93246896 0.9289647  0.92644545]\n",
            "[0.65122818 0.72867244 0.70791864 0.74063103 0.68798939 0.72658596\n",
            " 0.70117758 0.63346239 0.7235308  0.72343834]\n",
            "[0.9309429  0.93227092 0.92363878 0.92563081 0.9270073  0.92899801\n",
            " 0.92634373 0.93098872 0.9270073  0.92501659]\n",
            "[0.69047619 0.73214286 0.7202381  0.73809524 0.71856287 0.7245509\n",
            " 0.70658683 0.68263473 0.71856287 0.73053892]\n"
          ]
        }
      ]
    },
    {
      "cell_type": "markdown",
      "source": [
        "* The model over fits a lot on the training data but the test isnt awful its just the distance in values is pretty grand.\n",
        "\n",
        "* Lets visualize it to get a better look at how much of a difference there is?"
      ],
      "metadata": {
        "id": "Zzm1NfNoxw90"
      }
    },
    {
      "cell_type": "markdown",
      "source": [
        "## 4.2 Visualize The Overfit of Doom!"
      ],
      "metadata": {
        "id": "8ERzmqq34KSE"
      }
    },
    {
      "cell_type": "code",
      "source": [
        "import matplotlib.pyplot as plt\n",
        "import seaborn as sns\n",
        "\n",
        "# extract the scores from cv_results\n",
        "train_accuracy = cv_results['train_accuracy']\n",
        "test_accuracy = cv_results['test_accuracy']\n",
        "train_precision = cv_results['train_precision']\n",
        "test_precision = cv_results['test_precision']\n",
        "train_recall = cv_results['train_recall']\n",
        "test_recall = cv_results['test_recall']\n",
        "\n",
        "# create a DataFrame for plotting\n",
        "scores_df = pd.DataFrame({\n",
        "    'Accuracy': np.concatenate([train_accuracy, test_accuracy]),\n",
        "    'Precision': np.concatenate([train_precision, test_precision]),\n",
        "    'Recall': np.concatenate([train_recall, test_recall]),\n",
        "    'Dataset': ['Train'] * len(train_accuracy) + ['Test'] * len(test_accuracy)\n",
        "})\n",
        "\n",
        "# create box plots\n",
        "plt.figure(figsize=(10, 6))\n",
        "sns.boxplot(x='Dataset', y='Accuracy', data=scores_df, palette=\"Set1\")\n",
        "plt.title('Training vs. Test Accuracy')\n",
        "plt.show()\n",
        "\n",
        "plt.figure(figsize=(10, 6))\n",
        "sns.boxplot(x='Dataset', y='Precision', data=scores_df, palette=\"Set1\")\n",
        "plt.title('Training vs. Test Precision')\n",
        "plt.show()\n",
        "\n",
        "plt.figure(figsize=(10, 6))\n",
        "sns.boxplot(x='Dataset', y='Recall', data=scores_df, palette=\"Set1\")\n",
        "plt.title('Training vs. Test Recall')\n",
        "plt.show()"
      ],
      "metadata": {
        "id": "IrrtoDHHudNA",
        "outputId": "7d4a0785-dd1c-4190-f5ee-c6f4e0abc029",
        "colab": {
          "base_uri": "https://localhost:8080/",
          "height": 1000
        }
      },
      "execution_count": 30,
      "outputs": [
        {
          "output_type": "stream",
          "name": "stderr",
          "text": [
            "<ipython-input-30-83664eda44b4>:22: FutureWarning: \n",
            "\n",
            "Passing `palette` without assigning `hue` is deprecated and will be removed in v0.14.0. Assign the `x` variable to `hue` and set `legend=False` for the same effect.\n",
            "\n",
            "  sns.boxplot(x='Dataset', y='Accuracy', data=scores_df, palette=\"Set1\")\n"
          ]
        },
        {
          "output_type": "display_data",
          "data": {
            "text/plain": [
              "<Figure size 1000x600 with 1 Axes>"
            ],
            "image/png": "[encoded data removed]"
          },
          "metadata": {}
        },
        {
          "output_type": "stream",
          "name": "stderr",
          "text": [
            "<ipython-input-30-83664eda44b4>:27: FutureWarning: \n",
            "\n",
            "Passing `palette` without assigning `hue` is deprecated and will be removed in v0.14.0. Assign the `x` variable to `hue` and set `legend=False` for the same effect.\n",
            "\n",
            "  sns.boxplot(x='Dataset', y='Precision', data=scores_df, palette=\"Set1\")\n"
          ]
        },
        {
          "output_type": "display_data",
          "data": {
            "text/plain": [
              "<Figure size 1000x600 with 1 Axes>"
            ],
            "image/png": "[encoded data removed]"
          },
          "metadata": {}
        },
        {
          "output_type": "stream",
          "name": "stderr",
          "text": [
            "<ipython-input-30-83664eda44b4>:32: FutureWarning: \n",
            "\n",
            "Passing `palette` without assigning `hue` is deprecated and will be removed in v0.14.0. Assign the `x` variable to `hue` and set `legend=False` for the same effect.\n",
            "\n",
            "  sns.boxplot(x='Dataset', y='Recall', data=scores_df, palette=\"Set1\")\n"
          ]
        },
        {
          "output_type": "display_data",
          "data": {
            "text/plain": [
              "<Figure size 1000x600 with 1 Axes>"
            ],
            "image/png": "[encoded data removed]"
          },
          "metadata": {}
        }
      ]
    },
    {
      "cell_type": "markdown",
      "source": [
        "* And as we can see the difference is quite large between the two but the show must go on!"
      ],
      "metadata": {
        "id": "__5kH2KM4V-g"
      }
    },
    {
      "cell_type": "markdown",
      "source": [
        "# 5. Let's Predict!\n",
        "\n",
        "* Create your featres dataframe\n",
        "* Use model to predict\n",
        "\n",
        "* USE THIS AS REFRENCE:\n",
        "\n",
        "GradeClass: Classification of students' grades based on GPA:\n",
        "\n",
        "* 0: 'A' (GPA >= 3.5)\n",
        "* 1: 'B' (3.0 <= GPA < 3.5)\n",
        "* 2: 'C' (2.5 <= GPA < 3.0)\n",
        "* 3: 'D' (2.0 <= GPA < 2.5)\n",
        "* 4: 'F' (GPA < 2.0)\n"
      ],
      "metadata": {
        "id": "MxVO2r9Lyve-"
      }
    },
    {
      "cell_type": "markdown",
      "source": [
        "## 5.1 What are our features?"
      ],
      "metadata": {
        "id": "AvJQDSgAzu36"
      }
    },
    {
      "cell_type": "code",
      "source": [
        "X.columns"
      ],
      "metadata": {
        "id": "1o_sVv33zyQY",
        "outputId": "589a8168-045e-44e0-c59f-dec681ffb275",
        "colab": {
          "base_uri": "https://localhost:8080/"
        }
      },
      "execution_count": 34,
      "outputs": [
        {
          "output_type": "execute_result",
          "data": {
            "text/plain": [
              "Index(['Age', 'sex_male', 'sex_female', 'ParentalEducation', 'StudyTimeWeekly',\n",
              "       'Absences', 'Tutoring', 'ParentalSupport', 'Extracurricular', 'Sports',\n",
              "       'Music', 'Volunteering'],\n",
              "      dtype='object')"
            ]
          },
          "metadata": {},
          "execution_count": 34
        }
      ]
    },
    {
      "cell_type": "markdown",
      "source": [
        "## 5.2 Create Features dataframe\n",
        "\n",
        "* 16 years\n",
        "* Male\n",
        "* Parente Edu: Higher than Bachelors\n",
        "* Studying 10 hours a week\n",
        "* I have been absent 5 times\n",
        "* Does Tutoring\n",
        "* Parental Support: Very High\n",
        "* No Extracurricular Activities\n",
        "* I play sports tho\n",
        "* I love music\n",
        "* I have not volunteered"
      ],
      "metadata": {
        "id": "C13TdxZgz17h"
      }
    },
    {
      "cell_type": "code",
      "source": [
        "Fake_Data = pd.DataFrame([[16, 1, 0, 4, 10, 5, 1, 4, 0, 1, 1, 0]], columns=X.columns)\n",
        "\n",
        "# Make sure shapes match\n",
        "print(Fake_Data.shape)\n",
        "print(X.shape)"
      ],
      "metadata": {
        "id": "Ykjftgffy_VB",
        "outputId": "7dbd22e7-5bb9-47f0-f579-7ac4c163cb01",
        "colab": {
          "base_uri": "https://localhost:8080/"
        }
      },
      "execution_count": 35,
      "outputs": [
        {
          "output_type": "stream",
          "name": "stdout",
          "text": [
            "(1, 12)\n",
            "(2392, 12)\n"
          ]
        }
      ]
    },
    {
      "cell_type": "markdown",
      "source": [
        "* Shapes indeed Match :)"
      ],
      "metadata": {
        "id": "85WkP4-ZzUzM"
      }
    },
    {
      "cell_type": "markdown",
      "source": [
        "## 5.3 Are we a good noodle in school?"
      ],
      "metadata": {
        "id": "Zg9_VjP62eGq"
      }
    },
    {
      "cell_type": "code",
      "source": [
        "# Use model to predict grade class\n",
        "prediction = model.predict(Fake_Data)\n",
        "\n",
        "# print prediction\n",
        "print(prediction[0])"
      ],
      "metadata": {
        "id": "YyaUBVOVzalx",
        "outputId": "ac8cc40e-7ecf-4576-bc95-706d283488f4",
        "colab": {
          "base_uri": "https://localhost:8080/"
        }
      },
      "execution_count": 37,
      "outputs": [
        {
          "output_type": "stream",
          "name": "stdout",
          "text": [
            "1.0\n"
          ]
        }
      ]
    },
    {
      "cell_type": "markdown",
      "source": [
        "* So this student is a B student and that is not bad at all for the prediction it makes sense for his stats!\n",
        "\n",
        "* But what if he missed a bunch of days in school?\n",
        "\n",
        "## 5.4 Are we a bad noodle in school?"
      ],
      "metadata": {
        "id": "BX9fW7q72qq_"
      }
    },
    {
      "cell_type": "code",
      "source": [
        "model.predict(pd.DataFrame([[16, 1, 0, 4, 10, 100, 1, 4, 0, 1, 1, 0]], columns=X.columns))[0]"
      ],
      "metadata": {
        "id": "yezi6QJz16kW",
        "outputId": "157bf498-0941-4298-c33d-36b314468aa9",
        "colab": {
          "base_uri": "https://localhost:8080/"
        }
      },
      "execution_count": 41,
      "outputs": [
        {
          "output_type": "execute_result",
          "data": {
            "text/plain": [
              "4.0"
            ]
          },
          "metadata": {},
          "execution_count": 41
        }
      ]
    },
    {
      "cell_type": "markdown",
      "source": [
        "* This is indeed a bad noodle. Missing 100 days of school gave him a F. But yea this model seems to be doing the trick so now let's save it and take it to streamlit!"
      ],
      "metadata": {
        "id": "cGr8OD0I2-nH"
      }
    },
    {
      "cell_type": "markdown",
      "source": [
        "# 6. SAVE MODEL!"
      ],
      "metadata": {
        "id": "53iPuijG3MiX"
      }
    },
    {
      "cell_type": "code",
      "source": [
        "# Save Model\n",
        "import joblib\n",
        "joblib.dump(model, 'model.pkl')\n",
        "\n",
        "# Download model\n",
        "from google.colab import files\n",
        "files.download('model.pkl')"
      ],
      "metadata": {
        "id": "Vd7Fbzg_3L-8",
        "outputId": "50a61b70-b078-4644-d3e2-22ce02467919",
        "colab": {
          "base_uri": "https://localhost:8080/",
          "height": 16
        }
      },
      "execution_count": 43,
      "outputs": [
        {
          "output_type": "display_data",
          "data": {
            "text/plain": [
              "<IPython.core.display.Javascript object>"
            ],
            "application/javascript": [
              "\n",
              "    async function download(id, filename, size) {\n",
              "      if (!google.colab.kernel.accessAllowed) {\n",
              "        return;\n",
              "      }\n",
              "      const div = document.createElement('div');\n",
              "      const label = document.createElement('label');\n",
              "      label.textContent = `Downloading \"${filename}\": `;\n",
              "      div.appendChild(label);\n",
              "      const progress = document.createElement('progress');\n",
              "      progress.max = size;\n",
              "      div.appendChild(progress);\n",
              "      document.body.appendChild(div);\n",
              "\n",
              "      const buffers = [];\n",
              "      let downloaded = 0;\n",
              "\n",
              "      const channel = await google.colab.kernel.comms.open(id);\n",
              "      // Send a message to notify the kernel that we're ready.\n",
              "      channel.send({})\n",
              "\n",
              "      for await (const message of channel.messages) {\n",
              "        // Send a message to notify the kernel that we're ready.\n",
              "        channel.send({})\n",
              "        if (message.buffers) {\n",
              "          for (const buffer of message.buffers) {\n",
              "            buffers.push(buffer);\n",
              "            downloaded += buffer.byteLength;\n",
              "            progress.value = downloaded;\n",
              "          }\n",
              "        }\n",
              "      }\n",
              "      const blob = new Blob(buffers, {type: 'application/binary'});\n",
              "      const a = document.createElement('a');\n",
              "      a.href = window.URL.createObjectURL(blob);\n",
              "      a.download = filename;\n",
              "      div.appendChild(a);\n",
              "      a.click();\n",
              "      div.remove();\n",
              "    }\n",
              "  "
            ]
          },
          "metadata": {}
        },
        {
          "output_type": "display_data",
          "data": {
            "text/plain": [
              "<IPython.core.display.Javascript object>"
            ],
            "application/javascript": [
              "download(\"download_beab0bef-8341-4237-a909-d699b0f2c81f\", \"model.pkl\", 4932785)"
            ]
          },
          "metadata": {}
        }
      ]
    }
  ]
}